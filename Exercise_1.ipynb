{
  "nbformat": 4,
  "nbformat_minor": 0,
  "metadata": {
    "colab": {
      "name": "Exercise 1.ipynb",
      "provenance": [],
      "authorship_tag": "ABX9TyMmgXs7XYChQWIAjNrmIThl",
      "include_colab_link": true
    },
    "kernelspec": {
      "name": "python3",
      "display_name": "Python 3"
    },
    "language_info": {
      "name": "python"
    }
  },
  "cells": [
    {
      "cell_type": "markdown",
      "metadata": {
        "id": "view-in-github",
        "colab_type": "text"
      },
      "source": [
        "<a href=\"https://colab.research.google.com/github/SOFIAHILARIO/Web-Design-Development-Lab_58043/blob/main/Exercise_1.ipynb\" target=\"_parent\"><img src=\"https://colab.research.google.com/assets/colab-badge.svg\" alt=\"Open In Colab\"/></a>"
      ]
    },
    {
      "cell_type": "code",
      "execution_count": 2,
      "metadata": {
        "colab": {
          "base_uri": "https://localhost:8080/"
        },
        "id": "3tZBoi6tm_Bp",
        "outputId": "e40a930d-1882-4219-a029-c8b5ca04da84"
      },
      "outputs": [
        {
          "output_type": "stream",
          "name": "stdout",
          "text": [
            " Please Enter the radius of a circle: 3.14\n",
            " Area Of a Circle = 30.96\n",
            " Circumference Of a Circle = 19.72\n"
          ]
        }
      ],
      "source": [
        "# Python Program to find Area Of Circle using Radius\n",
        "\n",
        "PI = 3.14\n",
        "radius = float(input(' Please Enter the radius of a circle: '))\n",
        "area = PI * radius * radius\n",
        "circumference = 2 * PI * radius\n",
        "\n",
        "print(\" Area Of a Circle = %.2f\" %area)\n",
        "print(\" Circumference Of a Circle = %.2f\" %circumference)"
      ]
    }
  ]
}